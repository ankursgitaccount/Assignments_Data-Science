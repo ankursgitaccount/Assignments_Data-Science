{
  "cells": [
    {
      "cell_type": "markdown",
      "metadata": {},
      "source": [
        "                                        Assignment: PYTHON PROGRAM"
      ]
    },
    {
      "cell_type": "code",
      "execution_count": 37,
      "metadata": {
        "colab": {
          "base_uri": "https://localhost:8080/"
        },
        "id": "8VZsDBYB0hoY",
        "outputId": "fc570d9b-0bdc-45cc-b7ed-603acf409815"
      },
      "outputs": [
        {
          "name": "stdout",
          "output_type": "stream",
          "text": [
            "254 is not a prime number\n",
            "2 times 127 is 254\n"
          ]
        }
      ],
      "source": [
        "# Write a Python program that checks whether a given number is prime or not\n",
        "# to check if the number is prime or not we will use a for...else statement\n",
        "\n",
        "num = 254  # took a random number\n",
        "\n",
        "if num == 1:\n",
        "    print(\"1 is neither prime nor composite\")\n",
        "elif num > 1:\n",
        "    for i in range(2, num):\n",
        "        if (num % i) == 0:\n",
        "            print(num, \"is not a prime number\")\n",
        "            print(i, \"times\", num//i, \"is\", num)\n",
        "            break\n",
        "        else:\n",
        "            print(num, \"is a prime number\")\n",
        "\n"
      ]
    },
    {
      "cell_type": "code",
      "execution_count": 52,
      "metadata": {
        "colab": {
          "base_uri": "https://localhost:8080/"
        },
        "id": "Z84DOuoS62if",
        "outputId": "dbba0abf-c3e3-4f1a-8d32-e8e7caafa0a9"
      },
      "outputs": [
        {
          "name": "stdout",
          "output_type": "stream",
          "text": [
            "43  is a prime number\n"
          ]
        }
      ],
      "source": [
        "from math import sqrt\n",
        "# n is the number to be check whether it is prime or not\n",
        "n = 43\n",
        "\n",
        "# this flag maintains status whether the n is prime or not\n",
        "prime_flag = 0\n",
        "\n",
        "if(n > 1):\n",
        "    for i in range(2, int(sqrt(n)) + 1):\n",
        "        if (n % i == 0):\n",
        "            prime_flag = 1\n",
        "            break\n",
        "    if (prime_flag == 0):\n",
        "        print(n, \" is a prime number\")\n",
        "    else:\n",
        "        print(n, \" is not a prime number\")\n",
        "else:\n",
        "    print(n, \" is not a prime number\")"
      ]
    },
    {
      "cell_type": "code",
      "execution_count": 96,
      "metadata": {
        "colab": {
          "base_uri": "https://localhost:8080/"
        },
        "id": "JJkIOE8v_pqV",
        "outputId": "97ec0d0e-79a5-4adc-a64d-d403e1fce68e"
      },
      "outputs": [
        {
          "name": "stdout",
          "output_type": "stream",
          "text": [
            "First number is:  32\n",
            "Second number is:  80\n",
            "Enter the product of given numbers 2560\n",
            "2560 is the correct answer\n"
          ]
        }
      ],
      "source": [
        "#Python program that generates two random numbers and asks the user to enter the product of these numbers and also evaluate user response.\n",
        "\n",
        "import random\n",
        "\n",
        "num1 = random.randint(1,100)\n",
        "print(\"First number is: \", num1)\n",
        "num2 = random.randint(1,100)\n",
        "print(\"Second number is: \", num2)\n",
        "\n",
        "# Let's ask the user to enter the product of num1 and num2\n",
        "product = int(input(\"Enter the product of given numbers \"))\n",
        "\n",
        "if (num1*num2 == product):\n",
        "  print(product, \"is the correct answer\")\n",
        "else:\n",
        "    print(\"Incorrect, the product of given numbers is \", num1*num2)"
      ]
    },
    {
      "cell_type": "code",
      "execution_count": 106,
      "metadata": {
        "colab": {
          "base_uri": "https://localhost:8080/"
        },
        "id": "-cex6MiIGZBT",
        "outputId": "15c39d9f-6839-4ee2-d264-a4cde5981a1c"
      },
      "outputs": [
        {
          "name": "stdout",
          "output_type": "stream",
          "text": [
            "The square of Even number 100 is 10000\n",
            "The square of Even number 102 is 10404\n",
            "The square of Even number 104 is 10816\n",
            "The square of Even number 106 is 11236\n",
            "The square of Even number 108 is 11664\n",
            "The square of Even number 110 is 12100\n",
            "The square of Even number 112 is 12544\n",
            "The square of Even number 114 is 12996\n",
            "The square of Even number 116 is 13456\n",
            "The square of Even number 118 is 13924\n",
            "The square of Even number 120 is 14400\n",
            "The square of Even number 122 is 14884\n",
            "The square of Even number 124 is 15376\n",
            "The square of Even number 126 is 15876\n",
            "The square of Even number 128 is 16384\n",
            "The square of Even number 130 is 16900\n",
            "The square of Even number 132 is 17424\n",
            "The square of Even number 134 is 17956\n",
            "The square of Even number 136 is 18496\n",
            "The square of Even number 138 is 19044\n",
            "The square of Even number 140 is 19600\n",
            "The square of Even number 142 is 20164\n",
            "The square of Even number 144 is 20736\n",
            "The square of Even number 146 is 21316\n",
            "The square of Even number 148 is 21904\n",
            "The square of Even number 150 is 22500\n",
            "The square of Even number 152 is 23104\n",
            "The square of Even number 154 is 23716\n",
            "The square of Even number 156 is 24336\n",
            "The square of Even number 158 is 24964\n",
            "The square of Even number 160 is 25600\n",
            "The square of Even number 162 is 26244\n",
            "The square of Even number 164 is 26896\n",
            "The square of Even number 166 is 27556\n",
            "The square of Even number 168 is 28224\n",
            "The square of Even number 170 is 28900\n",
            "The square of Even number 172 is 29584\n",
            "The square of Even number 174 is 30276\n",
            "The square of Even number 176 is 30976\n",
            "The square of Even number 178 is 31684\n",
            "The square of Even number 180 is 32400\n",
            "The square of Even number 182 is 33124\n",
            "The square of Even number 184 is 33856\n",
            "The square of Even number 186 is 34596\n",
            "The square of Even number 188 is 35344\n",
            "The square of Even number 190 is 36100\n",
            "The square of Even number 192 is 36864\n",
            "The square of Even number 194 is 37636\n",
            "The square of Even number 196 is 38416\n",
            "The square of Even number 198 is 39204\n",
            "The square of Even number 200 is 40000\n"
          ]
        }
      ],
      "source": [
        "# print the squares of all even numbers between 100 to 200\n",
        "for num in range(100,201):\n",
        "    if (num % 2) ==0:\n",
        "        print(\"The square of Even number\",num,\"is\",num**2)\n",
        "\n"
      ]
    },
    {
      "cell_type": "code",
      "execution_count": 107,
      "metadata": {
        "colab": {
          "base_uri": "https://localhost:8080/"
        },
        "id": "oq0zxuZ9Hj_N",
        "outputId": "541660c8-2de3-4b42-ed3f-a08a98a36737"
      },
      "outputs": [
        {
          "name": "stdout",
          "output_type": "stream",
          "text": [
            "The square of odd number 101 is 10201\n",
            "The square of odd number 103 is 10609\n",
            "The square of odd number 105 is 11025\n",
            "The square of odd number 107 is 11449\n",
            "The square of odd number 109 is 11881\n",
            "The square of odd number 111 is 12321\n",
            "The square of odd number 113 is 12769\n",
            "The square of odd number 115 is 13225\n",
            "The square of odd number 117 is 13689\n",
            "The square of odd number 119 is 14161\n",
            "The square of odd number 121 is 14641\n",
            "The square of odd number 123 is 15129\n",
            "The square of odd number 125 is 15625\n",
            "The square of odd number 127 is 16129\n",
            "The square of odd number 129 is 16641\n",
            "The square of odd number 131 is 17161\n",
            "The square of odd number 133 is 17689\n",
            "The square of odd number 135 is 18225\n",
            "The square of odd number 137 is 18769\n",
            "The square of odd number 139 is 19321\n",
            "The square of odd number 141 is 19881\n",
            "The square of odd number 143 is 20449\n",
            "The square of odd number 145 is 21025\n",
            "The square of odd number 147 is 21609\n",
            "The square of odd number 149 is 22201\n",
            "The square of odd number 151 is 22801\n",
            "The square of odd number 153 is 23409\n",
            "The square of odd number 155 is 24025\n",
            "The square of odd number 157 is 24649\n",
            "The square of odd number 159 is 25281\n",
            "The square of odd number 161 is 25921\n",
            "The square of odd number 163 is 26569\n",
            "The square of odd number 165 is 27225\n",
            "The square of odd number 167 is 27889\n",
            "The square of odd number 169 is 28561\n",
            "The square of odd number 171 is 29241\n",
            "The square of odd number 173 is 29929\n",
            "The square of odd number 175 is 30625\n",
            "The square of odd number 177 is 31329\n",
            "The square of odd number 179 is 32041\n",
            "The square of odd number 181 is 32761\n",
            "The square of odd number 183 is 33489\n",
            "The square of odd number 185 is 34225\n",
            "The square of odd number 187 is 34969\n",
            "The square of odd number 189 is 35721\n",
            "The square of odd number 191 is 36481\n",
            "The square of odd number 193 is 37249\n",
            "The square of odd number 195 is 38025\n",
            "The square of odd number 197 is 38809\n",
            "The square of odd number 199 is 39601\n"
          ]
        }
      ],
      "source": [
        "# print the squares of all odd numbers between 100 to 200\n",
        "for num in range(100,201):\n",
        "    if (num % 2) !=0:\n",
        "        print(\"The square of odd number\",num,\"is\",num**2)"
      ]
    },
    {
      "cell_type": "code",
      "execution_count": 118,
      "metadata": {
        "colab": {
          "base_uri": "https://localhost:8080/"
        },
        "id": "A3X0N3x3Jdtb",
        "outputId": "66749b84-f24c-46d2-e77a-51ff895cc7fc"
      },
      "outputs": [
        {
          "name": "stdout",
          "output_type": "stream",
          "text": [
            "Enter the word to search for: this\n",
            "The word 'this' appears 0 times in the text.\n"
          ]
        }
      ],
      "source": [
        "#write a program to count the number of words in a given text\n",
        "\n",
        "input_text = \"This is a sample text. This text will be used to demonstrate the word counter.\"\n",
        "word = input(\"Enter the word to search for: \")\n",
        "count = input_text.count(word)\n",
        "print(\"The word '\" + word + \"' appears \" + str(count) + \" times in the text.\")\n"
      ]
    },
    {
      "cell_type": "code",
      "execution_count": 117,
      "metadata": {
        "colab": {
          "base_uri": "https://localhost:8080/"
        },
        "id": "_tOv7rvGKXgL",
        "outputId": "0ac3f663-d0fe-4acb-f940-f36e0656fb9c"
      },
      "outputs": [
        {
          "name": "stdout",
          "output_type": "stream",
          "text": [
            "Enter the word to search for: random\n",
            "The word 'random' appears 1 times in the text.\n"
          ]
        }
      ],
      "source": [
        "#write a program to count the number of words in a given text\n",
        "\n",
        "input_text = \"Develop a Python program that generates two random numbers and asks the user to enter the product of these numbers. The program should then check if the user's answer is correct and display an appropriate message.\"\n",
        "word = input(\"Enter the word to search for: \")\n",
        "count = input_text.count(word)\n",
        "print(\"The word '\" + word + \"' appears \" + str(count) + \" times in the text.\")"
      ]
    },
    {
      "cell_type": "code",
      "execution_count": 108,
      "metadata": {
        "colab": {
          "base_uri": "https://localhost:8080/"
        },
        "id": "axvm2uY4PWWw",
        "outputId": "15416552-539f-4613-c5ed-2ba93617c410"
      },
      "outputs": [
        {
          "name": "stdout",
          "output_type": "stream",
          "text": [
            "True\n",
            "False\n"
          ]
        }
      ],
      "source": [
        "def is_palindrome(s):\n",
        "    for i in range(len(s) // 2):\n",
        "        if s[i] != s[-(i + 1)]:\n",
        "            return False\n",
        "    return True\n",
        "\n",
        "print(is_palindrome(\"radar\"))\n",
        "print(is_palindrome(\"hello\"))"
      ]
    },
    {
      "cell_type": "code",
      "execution_count": 124,
      "metadata": {
        "colab": {
          "base_uri": "https://localhost:8080/"
        },
        "id": "eBZNyzb8PXb_",
        "outputId": "e1947c49-e2be-4756-f7d9-0d1193f4c53c"
      },
      "outputs": [
        {
          "name": "stdout",
          "output_type": "stream",
          "text": [
            "Enter a word to check if it is an palindrome:- sagas\n",
            "The word 'sagas' is a palindrome\n"
          ]
        }
      ],
      "source": [
        "# heck for Palindrome\n",
        "\n",
        "def is_palindrome(s):\n",
        "    for i in range(len(s) // 2):\n",
        "        if s[i] != s[-(i + 1)]:\n",
        "            return False\n",
        "    return True\n",
        "\n",
        "''' The is_palindrome function iterates over half of the string\n",
        "and compares characters at symmetrical positions from both ends.\n",
        "If any pair doesn’t match, the function returns False,\n",
        "indicating the string is not a palindrome.\n",
        "'''\n",
        "word = input(\"Enter a word to check if it is an palindrome:- \")\n",
        "if is_palindrome(word):\n",
        "    print(\"The word '\" +word+ \"' is a palindrome\")\n",
        "else:\n",
        "    print(\"The word '\" +word+ \"' is not a palindrome\")\n"
      ]
    },
    {
      "cell_type": "markdown",
      "metadata": {},
      "source": [
        "Observations:\n",
        "Prime Number Check:\n",
        "\n",
        "Two methods were implemented to determine if a number is prime.\n",
        "\n",
        "The first method used a basic for...else loop which can mistakenly print \"prime\" multiple times due to incorrect placement of the else block.\n",
        "\n",
        "The second method efficiently checks up to the square root of the number and uses a flag to track primality — this is more optimized and logically sound.\n",
        "\n",
        "Random Multiplication Quiz:\n",
        "\n",
        "Two random integers between 1 and 100 are generated, and the user is prompted to compute their product.\n",
        "\n",
        "The program correctly evaluates the user's input and gives immediate feedback on correctness.\n",
        "\n",
        "Squares of Even and Odd Numbers:\n",
        "\n",
        "Two loops successfully iterate from 100 to 200.\n",
        "\n",
        "One prints squares of even numbers, the other prints squares of odd numbers.\n",
        "\n",
        "The output was extensive and demonstrated the correct use of modulo operation to identify parity.\n",
        "\n",
        "Word Count in a Text:\n",
        "\n",
        "A simple .count() method was used to find the number of times a user-provided word appears in a predefined text.\n",
        "\n",
        "Case-sensitivity was not handled, leading to potentially misleading counts (e.g., \"this\" ≠ \"This\").\n",
        "\n",
        "Palindrome Check:\n",
        "\n",
        "The palindrome function iteratively compares characters from both ends.\n",
        "\n",
        "It successfully detects palindromes such as \"radar\" and \"sagas\", and correctly identifies non-palindromes like \"hello\"."
      ]
    },
    {
      "cell_type": "code",
      "execution_count": null,
      "metadata": {
        "id": "36zvptBBPziH"
      },
      "outputs": [],
      "source": [
        "\n"
      ]
    }
  ],
  "metadata": {
    "colab": {
      "provenance": []
    },
    "kernelspec": {
      "display_name": "Python 3",
      "name": "python3"
    },
    "language_info": {
      "name": "python"
    }
  },
  "nbformat": 4,
  "nbformat_minor": 0
}
