{
  "cells": [
    {
      "cell_type": "markdown",
      "metadata": {},
      "source": [
        "                            Assignment:Estimation Confidence Intervals"
      ]
    },
    {
      "cell_type": "code",
      "execution_count": 17,
      "metadata": {
        "colab": {
          "base_uri": "https://localhost:8080/"
        },
        "id": "--8sZUkB0vJP",
        "outputId": "e9aedbd6-050b-4843-c1c1-0db8cd9b2278"
      },
      "outputs": [
        {
          "data": {
            "text/plain": [
              "[1.13,\n",
              " 1.55,\n",
              " 1.43,\n",
              " 0.92,\n",
              " 1.25,\n",
              " 1.36,\n",
              " 1.32,\n",
              " 0.85,\n",
              " 1.07,\n",
              " 1.48,\n",
              " 1.2,\n",
              " 1.33,\n",
              " 1.18,\n",
              " 1.22,\n",
              " 1.29]"
            ]
          },
          "execution_count": 17,
          "metadata": {},
          "output_type": "execute_result"
        }
      ],
      "source": [
        "# A:- Build 99% Confidence Interval Using Sample Standard Deviation\n",
        "\n",
        "import scipy.stats as stats\n",
        "\n",
        "# Sample Data\n",
        "sample_data=[1.13, 1.55, 1.43, 0.92, 1.25, 1.36, 1.32, 0.85, 1.07, 1.48, 1.20, 1.33, 1.18, 1.22, 1.29]\n",
        "sample_data"
      ]
    },
    {
      "cell_type": "code",
      "execution_count": 18,
      "metadata": {
        "colab": {
          "base_uri": "https://localhost:8080/"
        },
        "id": "xWk_F0md1KG5",
        "outputId": "a95ace19-4455-4343-e161-1252426ebd3a"
      },
      "outputs": [
        {
          "name": "stdout",
          "output_type": "stream",
          "text": [
            "Mean of Sample data:  1.2386666666666666\n",
            "Standard deviation of Sample Data:  0.19316412956959936\n",
            "Sample Size:  15\n"
          ]
        }
      ],
      "source": [
        "# Calculate sample statistics\n",
        "sample_mean= sum(sample_data)/len(sample_data)\n",
        "print(\"Mean of Sample data: \",sample_mean)\n",
        "sample_std= stats.tstd(sample_data)  # using sample standard deviation\n",
        "print(\"Standard deviation of Sample Data: \", sample_std)\n",
        "sample_size= len(sample_data)\n",
        "print(\"Sample Size: \", sample_size)"
      ]
    },
    {
      "cell_type": "code",
      "execution_count": 19,
      "metadata": {
        "id": "AExALdiC3rsC"
      },
      "outputs": [],
      "source": [
        "# Confidence level\n",
        "confidence_level = 0.99\n",
        "\n",
        "\n"
      ]
    },
    {
      "cell_type": "code",
      "execution_count": 20,
      "metadata": {
        "colab": {
          "base_uri": "https://localhost:8080/"
        },
        "id": "x-0cqnF84Gkh",
        "outputId": "40998ca3-acc5-4f79-c415-515e01fa475d"
      },
      "outputs": [
        {
          "name": "stdout",
          "output_type": "stream",
          "text": [
            "T-score for 99% confidence level and (n-1) degrees of freedom:  2.97684273411266\n"
          ]
        }
      ],
      "source": [
        "# T-score for 99% confidence level and (n-1) degrees of freedom\n",
        "t_score = stats.t.ppf((1 + confidence_level) / 2, df=sample_size-1)\n",
        "print(\"T-score for 99% confidence level and (n-1) degrees of freedom: \", t_score)\n"
      ]
    },
    {
      "cell_type": "code",
      "execution_count": 21,
      "metadata": {
        "colab": {
          "base_uri": "https://localhost:8080/"
        },
        "id": "3Yybta2N4Yj2",
        "outputId": "7e892d5b-2e6b-4d8a-fc82-e649bf564ea6"
      },
      "outputs": [
        {
          "data": {
            "text/plain": [
              "0.1484693282152996"
            ]
          },
          "execution_count": 21,
          "metadata": {},
          "output_type": "execute_result"
        }
      ],
      "source": [
        "# Margin of error\n",
        "margin_of_error = t_score * (sample_std / (sample_size ** 0.5))\n",
        "margin_of_error"
      ]
    },
    {
      "cell_type": "code",
      "execution_count": 22,
      "metadata": {
        "colab": {
          "base_uri": "https://localhost:8080/"
        },
        "id": "-oMon75a4qpz",
        "outputId": "18e0b6db-2c69-468a-8e7a-4e98471ed05a"
      },
      "outputs": [
        {
          "name": "stdout",
          "output_type": "stream",
          "text": [
            "Confidence Interval (Population Mean - Unknown Std Dev):0 (1.090197338451367, 1.3871359948819662)\n"
          ]
        }
      ],
      "source": [
        "# confidence Level\n",
        "confidence_level = (sample_mean - margin_of_error,sample_mean + margin_of_error)\n",
        "print(\"Confidence Interval (Population Mean - Unknown Std Dev):0\" , confidence_level)"
      ]
    },
    {
      "cell_type": "code",
      "execution_count": 23,
      "metadata": {
        "colab": {
          "base_uri": "https://localhost:8080/"
        },
        "id": "t8f2BpZG5bUB",
        "outputId": "8e56f9cf-c1aa-4938-8c4c-5c92e43d862f"
      },
      "outputs": [
        {
          "name": "stdout",
          "output_type": "stream",
          "text": [
            "Mean of Sample data:  1.2386666666666666\n",
            "Standard deviation of Sample Data:  0.2\n",
            "Sample Size:  15\n",
            "Z-score for 99% confidence level:  2.5758293035489004\n",
            "Margin of Error:  0.15372349777995847\n",
            "Confidence Interval (Population Mean - Std Dev): (1.0849431688867082, 1.392390164446625)\n"
          ]
        }
      ],
      "source": [
        "# B:- Build 99% Confidence Interval Using Known Population Standard Deviation\n",
        "\n",
        "import scipy.stats as stats\n",
        "\n",
        "# Sample Data\n",
        "sample_data=[1.13, 1.55, 1.43, 0.92, 1.25, 1.36, 1.32, 0.85, 1.07, 1.48, 1.20, 1.33, 1.18, 1.22, 1.29]\n",
        "\n",
        "# Calculate sample statistics\n",
        "sample_mean= sum(sample_data)/len(sample_data)\n",
        "print(\"Mean of Sample data: \",sample_mean)\n",
        "sample_std= 0.2  # using given sample standard deviation\n",
        "print(\"Standard deviation of Sample Data: \", sample_std)\n",
        "sample_size= len(sample_data)\n",
        "print(\"Sample Size: \", sample_size)\n",
        "\n",
        "# Confidence level\n",
        "confidence_level = 0.99\n",
        "\n",
        "# Z-score for 99% confidence level\n",
        "z_score = stats.norm.ppf((1 + confidence_level) / 2)\n",
        "print(\"Z-score for 99% confidence level: \", z_score)\n",
        "\n",
        "# Margin of error\n",
        "margin_of_error = t_score * (sample_std / (sample_size ** 0.5))\n",
        "print('Margin of Error: ',margin_of_error)\n",
        "\n",
        "# confidence level\n",
        "confidence_level = (sample_mean - margin_of_error,sample_mean + margin_of_error)\n",
        "print(\"Confidence Interval (Population Mean - Std Dev):\" , confidence_level)"
      ]
    },
    {
      "cell_type": "markdown",
      "metadata": {},
      "source": [
        "Observations:\n",
        "\n",
        "A. Confidence Interval Using Sample Standard Deviation (t-distribution):\n",
        "\n",
        "A sample of 15 observations was analyzed.\n",
        "\n",
        "The sample mean is approximately 1.239.\n",
        "\n",
        "The sample standard deviation is approximately 0.193.\n",
        "\n",
        "Using a 99% confidence level and degrees of freedom (n-1 = 14), the t-score is 2.977.\n",
        "\n",
        "The margin of error is calculated as 0.148.\n",
        "\n",
        "Therefore, the 99% confidence interval for the population mean (with unknown population standard deviation) is approximately (1.090, 1.387).\n",
        "\n",
        "B. Confidence Interval Using Known Population Standard Deviation (z-distribution):\n",
        "\n",
        "The same sample mean of 1.239 is used, but the population standard deviation is assumed to be known and fixed at 0.2.\n",
        "\n",
        "For a 99% confidence level, the z-score is 2.576.\n",
        "\n",
        "Using this, the margin of error is 0.154, and the confidence interval becomes approximately (1.085, 1.392).\n",
        "\n",
        "Conclusion:\n",
        "Both methods produce similar but not identical confidence intervals for the population mean. When the population standard deviation is unknown, the t-distribution is more appropriate due to increased uncertainty, leading to a slightly wider interval. In contrast, using a known population standard deviation and the z-distribution results in a narrower interval. This exercise highlights the importance of correctly choosing the distribution based on available data and assumptions. In both cases, we are 99% confident that the true population mean lies within the respective intervals.\n",
        "\n"
      ]
    },
    {
      "cell_type": "code",
      "execution_count": 23,
      "metadata": {
        "id": "q5BjORJ-8Duk"
      },
      "outputs": [],
      "source": []
    }
  ],
  "metadata": {
    "colab": {
      "provenance": []
    },
    "kernelspec": {
      "display_name": "Python 3",
      "name": "python3"
    },
    "language_info": {
      "name": "python"
    }
  },
  "nbformat": 4,
  "nbformat_minor": 0
}
