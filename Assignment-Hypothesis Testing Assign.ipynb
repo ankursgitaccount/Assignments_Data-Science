{
 "cells": [
  {
   "cell_type": "markdown",
   "metadata": {},
   "source": [
    "                                                    Hypothesis Testing Assign"
   ]
  },
  {
   "cell_type": "code",
   "execution_count": null,
   "metadata": {},
   "outputs": [],
   "source": [
    "'''Background:\n",
    "Bombay hospitality Ltd. operates a franchise model for producing exotic Norwegian dinners throughout New England.\n",
    "The operating cost for a franchise in a week (W) is given by the equation W = $1,000 + $5X, where X represents \n",
    "the number of units produced in a week. Recent feedback from restaurant owners suggests that this cost model may no longer be accurate,\n",
    "as their observed weekly operating costs are higher.\n",
    "Objective:\n",
    "To investigate the restaurant owners' claim about the increase in weekly operating costs using hypothesis testing.\n",
    "Data Provided:\n",
    "•\tThe theoretical weekly operating cost model: W = $1,000 + $5X\n",
    "•\tSample of 25 restaurants with a mean weekly cost of Rs. 3,050\n",
    "•\tNumber of units produced in a week (X) follows a normal distribution with a mean (μ) of 600 units and a standard deviation (σ) of 25 units\n",
    "'''"
   ]
  },
  {
   "cell_type": "code",
   "execution_count": 2,
   "metadata": {},
   "outputs": [],
   "source": [
    "import numpy as np\n",
    "from scipy import stats"
   ]
  },
  {
   "cell_type": "code",
   "execution_count": null,
   "metadata": {},
   "outputs": [],
   "source": [
    "# H0: μ = 4000  (Theoretical weekly cost based on model)\n",
    "# H1: μ > 4000  (Actual cost is higher than theoretical)"
   ]
  },
  {
   "cell_type": "code",
   "execution_count": 3,
   "metadata": {},
   "outputs": [],
   "source": [
    "sample_mean = 3050                  # Sample mean cost (Rs.)\n",
    "X_mean = 600                        # Mean weekly units produced\n",
    "std_dev_X = 25                      # Std. deviation of weekly units\n",
    "n = 25                              # Sample size\n",
    "alpha = 0.05                        # Significance level\n",
    "    \n"
   ]
  },
  {
   "cell_type": "code",
   "execution_count": 4,
   "metadata": {},
   "outputs": [],
   "source": [
    "# Theoretical mean was alrady given in the model: W = 1000 + 5X\n",
    "\n",
    "mu=1000+5*X_mean\n",
    "std_dev_W=5*std_dev_X\n",
    "Std_error =std_dev_W/np.sqrt(n)\n"
   ]
  },
  {
   "cell_type": "code",
   "execution_count": 5,
   "metadata": {},
   "outputs": [],
   "source": [
    "# Now lets perform one sample Z-Test manually(using Z-Distribution)\n",
    "\n",
    "Z_score=(sample_mean-mu)/Std_error\n",
    "critical_value =stats.norm._ppf(1-alpha)"
   ]
  },
  {
   "cell_type": "code",
   "execution_count": 6,
   "metadata": {},
   "outputs": [],
   "source": [
    "# calculating P-value \n",
    "p_value = 1 - stats.norm.cdf(Z_score)  \n"
   ]
  },
  {
   "cell_type": "code",
   "execution_count": 7,
   "metadata": {},
   "outputs": [
    {
     "name": "stdout",
     "output_type": "stream",
     "text": [
      "===== Hypothesis Testing Key values =====\n",
      "Theoretical Mean (μ): ($). 4000\n",
      "Sample Mean (x̄): ($). 3050\n",
      "Standard Deviation (W): ($) 125\n",
      "Standard Error (SE): ($) 25.00\n",
      "Z-Score: -38.00\n",
      "Critical Value (Z at α = 0.05): 1.64\n",
      "P-Value: 1.0000\n"
     ]
    }
   ],
   "source": [
    "print(\"===== Hypothesis Testing Key values =====\")\n",
    "print(f\"Theoretical Mean (μ): ($). {mu}\")\n",
    "print(f\"Sample Mean (x̄): ($). {sample_mean}\")\n",
    "print(f\"Standard Deviation (W): ($) {std_dev_W}\")\n",
    "print(f\"Standard Error (SE): ($) {Std_error:.2f}\")\n",
    "print(f\"Z-Score: {Z_score:.2f}\")\n",
    "print(f\"Critical Value (Z at α = 0.05): {critical_value:.2f}\")\n",
    "print(f\"P-Value: {p_value:.4f}\")\n"
   ]
  },
  {
   "cell_type": "code",
   "execution_count": 8,
   "metadata": {},
   "outputs": [
    {
     "name": "stdout",
     "output_type": "stream",
     "text": [
      "Result: Fail to reject the null hypothesis (H₀)\n",
      "Conclusion: The data does NOT support the claim that weekly costs have increased.\n"
     ]
    }
   ],
   "source": [
    "alpha = 0.05\n",
    "PVALUE= 1.0000\n",
    "\n",
    "if p_value < alpha:\n",
    "    print(\"Result: Reject the null hypothesis (H₀)\")\n",
    "    print(\"Conclusion: There is evidence that weekly costs have increased.\")\n",
    "else:\n",
    "    print(\"Result: Fail to reject the null hypothesis (H₀)\")\n",
    "    print(\"Conclusion: The data does NOT support the claim that weekly costs have increased.\")\n"
   ]
  },
  {
   "cell_type": "markdown",
   "metadata": {},
   "source": [
    "Explanation:\n",
    "\n",
    "Theoretical Mean (μ): Rs. 4000\n",
    "\n",
    "Sample Mean (x̄): Rs. 3050\n",
    "\n",
    "My alternative hypothesis (H₁) is: the actual cost is higher than the theoretical cost, i.e., μ > 4000.\n",
    "However, since 3050 < 4000, our sample mean is actually lower than the model predicts.\n",
    "This contradicts the alternative hypothesis.\n",
    "\n",
    "Also, the Z-score is negative: -38.00.\n",
    "\n",
    "A negative Z-score in a right-tailed test means the test statistic lies far outside the rejection region (on the opposite side of the tail).\n",
    "\n",
    "Our p-value is 1.0000, meaning there is essentially no evidence to reject the null hypothesis.\n",
    "\n",
    "\n",
    "Therefore, our final decision is \"Result: Fail to reject the null hypothesis (H₀)\n",
    "Conclusion: The data does NOT support the claim that weekly costs have increased.\"\n",
    "\n",
    "\n",
    "\n",
    "\n",
    "\n",
    "\n",
    "\n",
    "\n",
    "\n",
    "\n"
   ]
  },
  {
   "cell_type": "code",
   "execution_count": null,
   "metadata": {},
   "outputs": [],
   "source": []
  }
 ],
 "metadata": {
  "kernelspec": {
   "display_name": "Python 3",
   "language": "python",
   "name": "python3"
  },
  "language_info": {
   "codemirror_mode": {
    "name": "ipython",
    "version": 3
   },
   "file_extension": ".py",
   "mimetype": "text/x-python",
   "name": "python",
   "nbconvert_exporter": "python",
   "pygments_lexer": "ipython3",
   "version": "3.12.7"
  }
 },
 "nbformat": 4,
 "nbformat_minor": 2
}
